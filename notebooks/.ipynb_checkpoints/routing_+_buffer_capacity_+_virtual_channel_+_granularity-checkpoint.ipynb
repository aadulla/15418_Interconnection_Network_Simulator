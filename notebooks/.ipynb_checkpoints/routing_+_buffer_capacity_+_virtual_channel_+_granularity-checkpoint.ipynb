{
 "cells": [
  {
   "cell_type": "code",
   "execution_count": 1,
   "metadata": {},
   "outputs": [],
   "source": [
    "import os\n",
    "import matplotlib.pyplot as plt\n",
    "import sys\n",
    "sys.path.append(\"../\")\n",
    "\n",
    "\n",
    "from src.data_visualizer import *"
   ]
  },
  {
   "cell_type": "code",
   "execution_count": 2,
   "metadata": {},
   "outputs": [],
   "source": [
    "path1 = 'test_suite/routing_+_flow_control_+_message_size_+_message_distribution/'"
   ]
  },
  {
   "cell_type": "code",
   "execution_count": 3,
   "metadata": {},
   "outputs": [],
   "source": [
    "path2 = '../test_suite/routing_+_buffer_capacity_+_virtual_channel_+_granularity/'"
   ]
  },
  {
   "cell_type": "code",
   "execution_count": 4,
   "metadata": {
    "scrolled": true
   },
   "outputs": [],
   "source": [
    "test_msg_0 = [ \n",
    "             path2+'test_0', # M_XY + packet\n",
    "             path2+'test_1', # M_XY + flit \n",
    "#              path2+'test_2', # M_Adapt + packet\n",
    "#              path2+'test_3', # M_Adapt + flit \n",
    "             ]\n",
    "test_msg_1 = [ \n",
    "             path2+'test_4', # M_XY + packet\n",
    "             path2+'test_5', # M_XY + flit \n",
    "#              path2+'test_6', # M_Adapt + packet\n",
    "#              path2+'test_7', # M_Adapt + flit\n",
    "             ]\n",
    "test_msg_2 = [ \n",
    "             path2+'test_8', # M_XY + packet\n",
    "             path2+'test_9', # M_XY + flit \n",
    "#              path2+'test_10', # M_Adapt + packet\n",
    "#              path2+'test_11', # M_Adapt + flit\n",
    "             ]\n",
    "test_msg_3 = [ \n",
    "             path2+'test_12', # M_XY + packet\n",
    "             path2+'test_13', # M_XY + flit \n",
    "#              path2+'test_14', # M_Adapt + packet\n",
    "#              path2+'test_15', # M_Adapt + flit \n",
    "             ]\n",
    "test_msg_4 = [ \n",
    "             path2+'test_16', # M_XY + packet\n",
    "             path2+'test_17', # M_XY + flit \n",
    "#              path2+'test_18', # M_Adapt + packet\n",
    "#              path2+'test_19', # M_Adapt + flit \n",
    "             ]\n",
    "test_msg_5 = [ \n",
    "             path2+'test_20', # M_XY + packet\n",
    "             path2+'test_21', # M_XY + flit \n",
    "#              path2+'test_22', # M_Adapt + packet,\n",
    "#              path2+'test_23', # M_Adapt + flit \n",
    "             ]\n",
    "\n",
    "global_stats_df_dict_0 = data_parser(test_msg_0)\n",
    "global_stats_df_dict_1 = data_parser(test_msg_1)\n",
    "global_stats_df_dict_2 = data_parser(test_msg_2)\n",
    "global_stats_df_dict_3 = data_parser(test_msg_3)\n",
    "global_stats_df_dict_4 = data_parser(test_msg_4)\n",
    "global_stats_df_dict_5 = data_parser(test_msg_5)\n",
    "\n",
    "global_stats_df_dict_lst = [global_stats_df_dict_0, \n",
    "                            global_stats_df_dict_1, \n",
    "                            global_stats_df_dict_2, \n",
    "                            global_stats_df_dict_3,\n",
    "                            global_stats_df_dict_4,\n",
    "                            global_stats_df_dict_5]\n",
    "\n",
    "titles = [\n",
    "            'Buffer Capacity: 3, Number of Virtual Channels: 20',\n",
    "            'Buffer Capacity: 4, Number of Virtual Channels: 15',\n",
    "            'Buffer Capacity: 6, Number of Virtual Channels: 10',\n",
    "            'Buffer Capacity: 10, Number of Virtual Channels: 6',\n",
    "            'Buffer Capacity: 15, Number of Virtual Channels: 4',\n",
    "            'Buffer Capacity: 20, Number of Virtual Channels: 3'\n",
    "         ]\n",
    "\n",
    "legend = [\"M_XY + Packet\", \n",
    "          \"M_XY + Flit\"]"
   ]
  },
  {
   "cell_type": "code",
   "execution_count": 5,
   "metadata": {},
   "outputs": [
    {
     "name": "stdout",
     "output_type": "stream",
     "text": [
      "            M_XY + Packet  M_XY + Flit\n",
      "latency        343.245000   321.210000\n",
      "distance         8.682560     8.682560\n",
      "size            34.468000    34.468000\n",
      "throughput       0.162840     0.299491\n",
      "speed            0.025295     0.027031\n",
      "\n"
     ]
    },
    {
     "ename": "ValueError",
     "evalue": "Length mismatch: Expected axis has 4 elements, new values have 2 elements",
     "output_type": "error",
     "traceback": [
      "\u001b[0;31m---------------------------------------------------------------------------\u001b[0m",
      "\u001b[0;31mValueError\u001b[0m                                Traceback (most recent call last)",
      "\u001b[0;32m<ipython-input-5-6a58414efd5a>\u001b[0m in \u001b[0;36m<module>\u001b[0;34m\u001b[0m\n\u001b[0;32m----> 1\u001b[0;31m \u001b[0mdisp_aggregate_stats\u001b[0m\u001b[0;34m(\u001b[0m\u001b[0mglobal_stats_df_dict_lst\u001b[0m\u001b[0;34m,\u001b[0m \u001b[0mlegend\u001b[0m\u001b[0;34m)\u001b[0m\u001b[0;34m\u001b[0m\u001b[0;34m\u001b[0m\u001b[0m\n\u001b[0m",
      "\u001b[0;32m~/private/15418/15418_Interconnection_Network_Simulator/src/data_visualizer.py\u001b[0m in \u001b[0;36mdisp_aggregate_stats\u001b[0;34m(dict_lst, legend)\u001b[0m\n\u001b[1;32m     90\u001b[0m                 \u001b[0mtmp\u001b[0m \u001b[0;34m=\u001b[0m \u001b[0mstats_dict\u001b[0m\u001b[0;34m[\u001b[0m\u001b[0;34m'aggregate'\u001b[0m\u001b[0;34m]\u001b[0m\u001b[0;34m.\u001b[0m\u001b[0mcopy\u001b[0m\u001b[0;34m(\u001b[0m\u001b[0;34m)\u001b[0m\u001b[0;34m\u001b[0m\u001b[0;34m\u001b[0m\u001b[0m\n\u001b[1;32m     91\u001b[0m                 \u001b[0;32mif\u001b[0m \u001b[0mlen\u001b[0m\u001b[0;34m(\u001b[0m\u001b[0mtmp\u001b[0m\u001b[0;34m.\u001b[0m\u001b[0mcolumns\u001b[0m\u001b[0;34m)\u001b[0m \u001b[0;34m==\u001b[0m \u001b[0mlen\u001b[0m\u001b[0;34m(\u001b[0m\u001b[0mlegend\u001b[0m\u001b[0;34m)\u001b[0m\u001b[0;34m-\u001b[0m\u001b[0;36m1\u001b[0m\u001b[0;34m:\u001b[0m \u001b[0mtmp\u001b[0m\u001b[0;34m.\u001b[0m\u001b[0mcolumns\u001b[0m \u001b[0;34m=\u001b[0m \u001b[0mlegend\u001b[0m\u001b[0;34m[\u001b[0m\u001b[0;34m:\u001b[0m\u001b[0;34m-\u001b[0m\u001b[0;36m1\u001b[0m\u001b[0;34m]\u001b[0m\u001b[0;34m\u001b[0m\u001b[0;34m\u001b[0m\u001b[0m\n\u001b[0;32m---> 92\u001b[0;31m                 \u001b[0;32melse\u001b[0m\u001b[0;34m:\u001b[0m \u001b[0mtmp\u001b[0m\u001b[0;34m.\u001b[0m\u001b[0mcolumns\u001b[0m \u001b[0;34m=\u001b[0m \u001b[0mlegend\u001b[0m\u001b[0;34m\u001b[0m\u001b[0;34m\u001b[0m\u001b[0m\n\u001b[0m\u001b[1;32m     93\u001b[0m                 \u001b[0mprint\u001b[0m\u001b[0;34m(\u001b[0m\u001b[0mtmp\u001b[0m\u001b[0;34m)\u001b[0m\u001b[0;34m\u001b[0m\u001b[0;34m\u001b[0m\u001b[0m\n\u001b[1;32m     94\u001b[0m                 \u001b[0mprint\u001b[0m\u001b[0;34m(\u001b[0m\u001b[0;34m)\u001b[0m\u001b[0;34m\u001b[0m\u001b[0;34m\u001b[0m\u001b[0m\n",
      "\u001b[0;32m/usr/local/lib64/python3.6/site-packages/pandas/core/generic.py\u001b[0m in \u001b[0;36m__setattr__\u001b[0;34m(self, name, value)\u001b[0m\n\u001b[1;32m   5190\u001b[0m         \u001b[0;32mtry\u001b[0m\u001b[0;34m:\u001b[0m\u001b[0;34m\u001b[0m\u001b[0;34m\u001b[0m\u001b[0m\n\u001b[1;32m   5191\u001b[0m             \u001b[0mobject\u001b[0m\u001b[0;34m.\u001b[0m\u001b[0m__getattribute__\u001b[0m\u001b[0;34m(\u001b[0m\u001b[0mself\u001b[0m\u001b[0;34m,\u001b[0m \u001b[0mname\u001b[0m\u001b[0;34m)\u001b[0m\u001b[0;34m\u001b[0m\u001b[0;34m\u001b[0m\u001b[0m\n\u001b[0;32m-> 5192\u001b[0;31m             \u001b[0;32mreturn\u001b[0m \u001b[0mobject\u001b[0m\u001b[0;34m.\u001b[0m\u001b[0m__setattr__\u001b[0m\u001b[0;34m(\u001b[0m\u001b[0mself\u001b[0m\u001b[0;34m,\u001b[0m \u001b[0mname\u001b[0m\u001b[0;34m,\u001b[0m \u001b[0mvalue\u001b[0m\u001b[0;34m)\u001b[0m\u001b[0;34m\u001b[0m\u001b[0;34m\u001b[0m\u001b[0m\n\u001b[0m\u001b[1;32m   5193\u001b[0m         \u001b[0;32mexcept\u001b[0m \u001b[0mAttributeError\u001b[0m\u001b[0;34m:\u001b[0m\u001b[0;34m\u001b[0m\u001b[0;34m\u001b[0m\u001b[0m\n\u001b[1;32m   5194\u001b[0m             \u001b[0;32mpass\u001b[0m\u001b[0;34m\u001b[0m\u001b[0;34m\u001b[0m\u001b[0m\n",
      "\u001b[0;32mpandas/_libs/properties.pyx\u001b[0m in \u001b[0;36mpandas._libs.properties.AxisProperty.__set__\u001b[0;34m()\u001b[0m\n",
      "\u001b[0;32m/usr/local/lib64/python3.6/site-packages/pandas/core/generic.py\u001b[0m in \u001b[0;36m_set_axis\u001b[0;34m(self, axis, labels)\u001b[0m\n\u001b[1;32m    688\u001b[0m \u001b[0;34m\u001b[0m\u001b[0m\n\u001b[1;32m    689\u001b[0m     \u001b[0;32mdef\u001b[0m \u001b[0m_set_axis\u001b[0m\u001b[0;34m(\u001b[0m\u001b[0mself\u001b[0m\u001b[0;34m,\u001b[0m \u001b[0maxis\u001b[0m\u001b[0;34m,\u001b[0m \u001b[0mlabels\u001b[0m\u001b[0;34m)\u001b[0m\u001b[0;34m:\u001b[0m\u001b[0;34m\u001b[0m\u001b[0;34m\u001b[0m\u001b[0m\n\u001b[0;32m--> 690\u001b[0;31m         \u001b[0mself\u001b[0m\u001b[0;34m.\u001b[0m\u001b[0m_data\u001b[0m\u001b[0;34m.\u001b[0m\u001b[0mset_axis\u001b[0m\u001b[0;34m(\u001b[0m\u001b[0maxis\u001b[0m\u001b[0;34m,\u001b[0m \u001b[0mlabels\u001b[0m\u001b[0;34m)\u001b[0m\u001b[0;34m\u001b[0m\u001b[0;34m\u001b[0m\u001b[0m\n\u001b[0m\u001b[1;32m    691\u001b[0m         \u001b[0mself\u001b[0m\u001b[0;34m.\u001b[0m\u001b[0m_clear_item_cache\u001b[0m\u001b[0;34m(\u001b[0m\u001b[0;34m)\u001b[0m\u001b[0;34m\u001b[0m\u001b[0;34m\u001b[0m\u001b[0m\n\u001b[1;32m    692\u001b[0m \u001b[0;34m\u001b[0m\u001b[0m\n",
      "\u001b[0;32m/usr/local/lib64/python3.6/site-packages/pandas/core/internals/managers.py\u001b[0m in \u001b[0;36mset_axis\u001b[0;34m(self, axis, new_labels)\u001b[0m\n\u001b[1;32m    181\u001b[0m             raise ValueError(\n\u001b[1;32m    182\u001b[0m                 \u001b[0;34m\"Length mismatch: Expected axis has {old} elements, new \"\u001b[0m\u001b[0;34m\u001b[0m\u001b[0;34m\u001b[0m\u001b[0m\n\u001b[0;32m--> 183\u001b[0;31m                 \u001b[0;34m\"values have {new} elements\"\u001b[0m\u001b[0;34m.\u001b[0m\u001b[0mformat\u001b[0m\u001b[0;34m(\u001b[0m\u001b[0mold\u001b[0m\u001b[0;34m=\u001b[0m\u001b[0mold_len\u001b[0m\u001b[0;34m,\u001b[0m \u001b[0mnew\u001b[0m\u001b[0;34m=\u001b[0m\u001b[0mnew_len\u001b[0m\u001b[0;34m)\u001b[0m\u001b[0;34m\u001b[0m\u001b[0;34m\u001b[0m\u001b[0m\n\u001b[0m\u001b[1;32m    184\u001b[0m             )\n\u001b[1;32m    185\u001b[0m \u001b[0;34m\u001b[0m\u001b[0m\n",
      "\u001b[0;31mValueError\u001b[0m: Length mismatch: Expected axis has 4 elements, new values have 2 elements"
     ]
    }
   ],
   "source": [
    "disp_aggregate_stats(global_stats_df_dict_lst, legend)"
   ]
  },
  {
   "cell_type": "code",
   "execution_count": null,
   "metadata": {},
   "outputs": [],
   "source": [
    "fig, ax = plt.subplots(3,2)\n",
    "time_series_subplot(ax, \n",
    "                    global_stats_df_dict_lst, \n",
    "                    'tx',\n",
    "                    \"Clock Cycle\", \n",
    "                    \"Number of Flits Transmitted\", \n",
    "                    titles, \n",
    "                    legend, \n",
    "                    200)\n",
    "fig.set_size_inches(15, 16)\n",
    "fig.suptitle(\"Flit Transmission Time Series Plot\", fontsize=28)\n",
    "plt.show()"
   ]
  },
  {
   "cell_type": "code",
   "execution_count": null,
   "metadata": {},
   "outputs": [],
   "source": [
    "fig, ax = plt.subplots(3,2)\n",
    "time_series_subplot(ax, \n",
    "                    global_stats_df_dict_lst, \n",
    "                    'rx',\n",
    "                    \"Clock Cycle\", \n",
    "                    \"Number of Flits Received\", \n",
    "                    titles, \n",
    "                    legend, \n",
    "                    200)\n",
    "fig.set_size_inches(15, 16)\n",
    "fig.suptitle(\"Flit Reception Time Series Plot\", fontsize = 28)\n",
    "plt.show()"
   ]
  },
  {
   "cell_type": "code",
   "execution_count": null,
   "metadata": {},
   "outputs": [],
   "source": [
    "fig, ax = plt.subplots(3,2)\n",
    "time_series_subplot(ax, \n",
    "                    global_stats_df_dict_lst, \n",
    "                    'stalls',\n",
    "                    \"Clock Cycle\", \n",
    "                    \"Number of Contentions\", \n",
    "                    titles, \n",
    "                    legend, \n",
    "                    200)\n",
    "fig.set_size_inches(15, 16)\n",
    "fig.suptitle(\"Contentions Time-Series Plot\")\n",
    "plt.show()"
   ]
  },
  {
   "cell_type": "code",
   "execution_count": null,
   "metadata": {},
   "outputs": [],
   "source": [
    "fig, ax = plt.subplots(3,2)\n",
    "time_series_subplot(ax, \n",
    "                    global_stats_df_dict_lst, \n",
    "                    'buffers',\n",
    "                    \"Clock Cycle\", \n",
    "                    \"Buffer Efficiency\", \n",
    "                    titles, \n",
    "                    legend, \n",
    "                    200)\n",
    "fig.set_size_inches(15, 16)\n",
    "fig.suptitle(\"Buffer Efficiency Time-Series Plot\")\n",
    "plt.show()"
   ]
  },
  {
   "cell_type": "code",
   "execution_count": null,
   "metadata": {},
   "outputs": [],
   "source": [
    "fig, ax = plt.subplots(3,2)\n",
    "kde_subplot(ax, \n",
    "            global_stats_df_dict_lst, \n",
    "            'latency',\n",
    "            \"Message Latency in Clock Cycles\", \n",
    "            \"Normalized Frequency\", \n",
    "            titles, \n",
    "            legend, \n",
    "            0,\n",
    "            2000, \n",
    "            0.05)\n",
    "fig.set_size_inches(15, 16)\n",
    "fig.suptitle(\"Message Latency Distribution KDE Plot\")\n",
    "plt.show()"
   ]
  }
 ],
 "metadata": {
  "kernelspec": {
   "display_name": "Python 3",
   "language": "python",
   "name": "python3"
  },
  "language_info": {
   "codemirror_mode": {
    "name": "ipython",
    "version": 3
   },
   "file_extension": ".py",
   "mimetype": "text/x-python",
   "name": "python",
   "nbconvert_exporter": "python",
   "pygments_lexer": "ipython3",
   "version": "3.6.8"
  }
 },
 "nbformat": 4,
 "nbformat_minor": 4
}
